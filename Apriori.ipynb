{
  "nbformat": 4,
  "nbformat_minor": 0,
  "metadata": {
    "kernelspec": {
      "display_name": "Python 3",
      "language": "python",
      "name": "python3"
    },
    "language_info": {
      "codemirror_mode": {
        "name": "ipython",
        "version": 3
      },
      "file_extension": ".py",
      "mimetype": "text/x-python",
      "name": "python",
      "nbconvert_exporter": "python",
      "pygments_lexer": "ipython3",
      "version": "3.7.6"
    },
    "colab": {
      "name": "Apriori.ipynb",
      "provenance": [],
      "collapsed_sections": [],
      "toc_visible": true,
      "include_colab_link": true
    }
  },
  "cells": [
    {
      "cell_type": "markdown",
      "metadata": {
        "id": "view-in-github",
        "colab_type": "text"
      },
      "source": [
        "<a href=\"https://colab.research.google.com/github/CrozierN/cipher/blob/master/Apriori.ipynb\" target=\"_parent\"><img src=\"https://colab.research.google.com/assets/colab-badge.svg\" alt=\"Open In Colab\"/></a>"
      ]
    },
    {
      "cell_type": "code",
      "metadata": {
        "id": "OwDPv6rG-uZV",
        "colab_type": "code",
        "colab": {
          "base_uri": "https://localhost:8080/",
          "height": 54
        },
        "outputId": "4e21deca-bea2-4cdd-c117-583cfdb2fc3c"
      },
      "source": [
        "from google.colab import drive\n",
        "drive.mount('/content/drive')"
      ],
      "execution_count": null,
      "outputs": [
        {
          "output_type": "stream",
          "text": [
            "Drive already mounted at /content/drive; to attempt to forcibly remount, call drive.mount(\"/content/drive\", force_remount=True).\n"
          ],
          "name": "stdout"
        }
      ]
    },
    {
      "cell_type": "code",
      "metadata": {
        "id": "O2rfIW37zonb",
        "colab_type": "code",
        "colab": {}
      },
      "source": [
        "# Imports \n",
        "from collections import Counter\n",
        "import itertools"
      ],
      "execution_count": null,
      "outputs": []
    },
    {
      "cell_type": "code",
      "metadata": {
        "id": "ScaE439dzonh",
        "colab_type": "code",
        "colab": {}
      },
      "source": [
        "# Open file\n",
        "file = open('drive/My Drive/file.txt', 'r')\n",
        "file_trans = file.read()\n",
        "\n",
        "# Thresholds\n",
        "support = 40"
      ],
      "execution_count": null,
      "outputs": []
    },
    {
      "cell_type": "code",
      "metadata": {
        "id": "cH-9CUvFzonm",
        "colab_type": "code",
        "colab": {}
      },
      "source": [
        "transactions = [item.split(',') for item in file_trans.splitlines()]\n",
        "trans_data = [item for sublist in transactions for item in sublist]\n",
        "# new_transactions = dict(Counter(sorted(trans_data)))\n",
        "new_transactions = (sorted(trans_data))"
      ],
      "execution_count": null,
      "outputs": []
    },
    {
      "cell_type": "code",
      "metadata": {
        "id": "-uC-aSgVzonp",
        "colab_type": "code",
        "colab": {}
      },
      "source": [
        "# First Iteration\n",
        "def stage1(new_transactions, support_thresh):\n",
        "    C1 = dict(Counter(new_transactions))\n",
        "    L1 = {key: value for key, value in C1.items() if value >= support_thresh }\n",
        "    return C1, L1"
      ],
      "execution_count": null,
      "outputs": []
    },
    {
      "cell_type": "code",
      "metadata": {
        "id": "8kSeelS1zons",
        "colab_type": "code",
        "colab": {}
      },
      "source": [
        "def stage2(f1, old_transactions, support_thresh):\n",
        "    F1 = [(x,y) for x in f1 for y in f1 if y > x]\n",
        "    \n",
        "    C2 = {}\n",
        "    f2 = {}\n",
        "    \n",
        "    for x, y in F1:\n",
        "        count = 0\n",
        "        for z in old_transactions:\n",
        "            if x in z and y in z:\n",
        "                count += 1\n",
        "        C2[(x,y)] = count\n",
        "    for key, value in C2.items():\n",
        "        if value >= support_thresh:\n",
        "            f2[key] = value\n",
        "            \n",
        "    \n",
        "    return C2, f2"
      ],
      "execution_count": null,
      "outputs": []
    },
    {
      "cell_type": "code",
      "metadata": {
        "scrolled": true,
        "id": "kvjQUedSzonv",
        "colab_type": "code",
        "colab": {}
      },
      "source": [
        "def stage3(f2, old_transactions, support_thresh):\n",
        "    Freq2 = list(f2.keys())\n",
        "    F2 = sorted(list(set(item for value in f2 for item in value)))\n",
        "    F2 = list(itertools.combinations(F2, 3))\n",
        "    \n",
        "    C3 = {}\n",
        "    F3 = {}\n",
        "    \n",
        "    for w, x, y in F2:\n",
        "        count = 0\n",
        "        for z in old_transactions:\n",
        "            if w in z and x in z and y in z:\n",
        "                count += 1\n",
        "        C3[(w, x, y)] = count\n",
        "    for key, value in C3.items():\n",
        "        if value >= support_thresh:\n",
        "            F3[key] = value\n",
        "    \n",
        "    return C3, F3"
      ],
      "execution_count": null,
      "outputs": []
    },
    {
      "cell_type": "code",
      "metadata": {
        "id": "Z2mg5iaPzon3",
        "colab_type": "code",
        "colab": {}
      },
      "source": [
        "c1, list1 = candidate1, freq_List1 = stage1(new_transactions, support)\n",
        "c2, list2 = candidate2, freq_item2 = stage2(freq_List1, transactions, support)\n",
        "c3, list3 =  candidate3, freq_item3 = stage3(freq_item2, transactions, support)\n",
        "\n",
        "itemlist = {**list1, **list2, **list3}"
      ],
      "execution_count": null,
      "outputs": []
    },
    {
      "cell_type": "code",
      "metadata": {
        "id": "zDRN9LfBzon0",
        "colab_type": "code",
        "colab": {}
      },
      "source": [
        "sets = []\n",
        "for iter1 in list(freq_item3.keys()):\n",
        "    subsets = list(itertools.combinations(iter1, 2))\n",
        "    sets.append(subsets)"
      ],
      "execution_count": null,
      "outputs": []
    },
    {
      "cell_type": "code",
      "metadata": {
        "id": "T-zTYfbZzon6",
        "colab_type": "code",
        "colab": {}
      },
      "source": [
        "def support_freq_count(itemset, itemlist):\n",
        "    return itemlist[itemset]"
      ],
      "execution_count": null,
      "outputs": []
    },
    {
      "cell_type": "code",
      "metadata": {
        "id": "_fuhIPIrzon9",
        "colab_type": "code",
        "colab": {}
      },
      "source": [
        "list_freq_item3 = list(freq_item3.keys())\n",
        "for i in range(0, len(list_freq_item3)):\n",
        "    for iter1 in sets[i]:\n",
        "        a = iter1\n",
        "        b = set(list_freq_item3[i]) - set(iter1)\n",
        "        confidence = (support_freq_count(list_freq_item3[i], itemlist)/support_freq_count(iter1, itemlist))*100\n",
        "        print(\"Confidence{}->{} = \".format(a,b), confidence)"
      ],
      "execution_count": null,
      "outputs": []
    },
    {
      "cell_type": "code",
      "metadata": {
        "id": "eP5gNbpGEPCO",
        "colab_type": "code",
        "colab": {
          "base_uri": "https://localhost:8080/",
          "height": 34
        },
        "outputId": "8f2ead84-35ab-41b7-c0b9-fe5f0c803a1e"
      },
      "source": [
        "print(itemlist)"
      ],
      "execution_count": null,
      "outputs": [
        {
          "output_type": "stream",
          "text": [
            "{}\n"
          ],
          "name": "stdout"
        }
      ]
    }
  ]
}